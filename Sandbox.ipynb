{
 "cells": [
  {
   "cell_type": "code",
   "execution_count": 1,
   "id": "0db3c384",
   "metadata": {},
   "outputs": [],
   "source": [
    "def add_10(m):\n",
    "    if m >= 100:\n",
    "        m = m + 10\n",
    "        return m\n",
    "    else:\n",
    "        return 'save more!'\n",
    "    \n",
    "add_10(110)\n",
    "# Another example\n",
    "# add_10(50)"
   ]
  },
  {
   "cell_type": "code",
   "execution_count": 4,
   "id": "5b420557",
   "metadata": {},
   "outputs": [
    {
     "data": {
      "text/plain": [
       "4"
      ]
     },
     "execution_count": 4,
     "metadata": {},
     "output_type": "execute_result"
    }
   ],
   "source": [
    "def subtract_bc(a,b,c):\n",
    "    result = a-b*c\n",
    "    return result\n",
    "\n",
    "subtract_bc(10,3,2)"
   ]
  },
  {
   "cell_type": "code",
   "execution_count": 5,
   "id": "dfef4ec7",
   "metadata": {},
   "outputs": [
    {
     "data": {
      "text/plain": [
       "int"
      ]
     },
     "execution_count": 5,
     "metadata": {},
     "output_type": "execute_result"
    }
   ],
   "source": [
    "type(10)\n",
    "# str(500)"
   ]
  },
  {
   "cell_type": "code",
   "execution_count": 7,
   "id": "927d9588",
   "metadata": {},
   "outputs": [
    {
     "data": {
      "text/plain": [
       "30"
      ]
     },
     "execution_count": 7,
     "metadata": {},
     "output_type": "execute_result"
    }
   ],
   "source": [
    "max(10,20,30)\n",
    "# min(10,20,30)"
   ]
  },
  {
   "cell_type": "code",
   "execution_count": 9,
   "id": "ad419d45",
   "metadata": {},
   "outputs": [
    {
     "data": {
      "text/plain": [
       "20"
      ]
     },
     "execution_count": 9,
     "metadata": {},
     "output_type": "execute_result"
    }
   ],
   "source": [
    "z=-20\n",
    "abs(z)"
   ]
  },
  {
   "cell_type": "code",
   "execution_count": 10,
   "id": "528ef824",
   "metadata": {},
   "outputs": [
    {
     "data": {
      "text/plain": [
       "10"
      ]
     },
     "execution_count": 10,
     "metadata": {},
     "output_type": "execute_result"
    }
   ],
   "source": [
    "list_1=[1,2,3,4]\n",
    "sum(list_1)"
   ]
  },
  {
   "cell_type": "code",
   "execution_count": 11,
   "id": "b7c8cc47",
   "metadata": {},
   "outputs": [
    {
     "data": {
      "text/plain": [
       "1024"
      ]
     },
     "execution_count": 11,
     "metadata": {},
     "output_type": "execute_result"
    }
   ],
   "source": [
    "2**10\n",
    "# Another option is\n",
    "# pow(2,10)"
   ]
  },
  {
   "cell_type": "code",
   "execution_count": 12,
   "id": "fed60284",
   "metadata": {},
   "outputs": [
    {
     "data": {
      "text/plain": [
       "6"
      ]
     },
     "execution_count": 12,
     "metadata": {},
     "output_type": "execute_result"
    }
   ],
   "source": [
    "len('Meagan')"
   ]
  },
  {
   "cell_type": "markdown",
   "id": "d458f813",
   "metadata": {},
   "source": [
    "Probability\n",
    "P(A)-preferred outcomes/possible outcomes\n",
    "A=event\n",
    "E=expected value\n",
    "E(A)=P(A)*n\n",
    "\n",
    "BAYES\n",
    "P(A|B)=(P(B│A)×P(A))/P(B) =(0.6×0.4)/0.3=0.8."
   ]
  },
  {
   "cell_type": "code",
   "execution_count": 16,
   "id": "328a6211",
   "metadata": {},
   "outputs": [],
   "source": [
    "if 5!=15/3:\n",
    "    print('Hooray')"
   ]
  },
  {
   "cell_type": "code",
   "execution_count": 18,
   "id": "2f81bf72",
   "metadata": {},
   "outputs": [
    {
     "name": "stdout",
     "output_type": "stream",
     "text": [
      "case 2\n"
     ]
    }
   ],
   "source": [
    "x=1\n",
    "if x>3:\n",
    "    print('case 1')\n",
    "else:\n",
    "    print('case 2')"
   ]
  },
  {
   "cell_type": "code",
   "execution_count": 23,
   "id": "513a1844",
   "metadata": {},
   "outputs": [],
   "source": [
    "def compare_to_five(y):\n",
    "    if y>5:\n",
    "        return 'greater'\n",
    "    elif y<0:\n",
    "        return'negative'\n",
    "    elif y<5:\n",
    "        return 'less'\n",
    "    else:\n",
    "        return 'equal'"
   ]
  },
  {
   "cell_type": "code",
   "execution_count": 25,
   "id": "f4344272",
   "metadata": {},
   "outputs": [
    {
     "name": "stdout",
     "output_type": "stream",
     "text": [
      "negative\n"
     ]
    }
   ],
   "source": [
    "print(compare_to_five(-2))"
   ]
  },
  {
   "cell_type": "code",
   "execution_count": null,
   "id": "6cd2a5a9",
   "metadata": {},
   "outputs": [],
   "source": []
  },
  {
   "cell_type": "code",
   "execution_count": null,
   "id": "2d74844d",
   "metadata": {},
   "outputs": [],
   "source": []
  },
  {
   "cell_type": "code",
   "execution_count": null,
   "id": "a13ae2a0",
   "metadata": {},
   "outputs": [],
   "source": []
  },
  {
   "cell_type": "code",
   "execution_count": null,
   "id": "bb9675a1",
   "metadata": {},
   "outputs": [],
   "source": []
  },
  {
   "cell_type": "code",
   "execution_count": null,
   "id": "f9783232",
   "metadata": {},
   "outputs": [],
   "source": []
  },
  {
   "cell_type": "code",
   "execution_count": null,
   "id": "fc3d7211",
   "metadata": {},
   "outputs": [],
   "source": []
  },
  {
   "cell_type": "code",
   "execution_count": null,
   "id": "06f5616b",
   "metadata": {},
   "outputs": [],
   "source": []
  }
 ],
 "metadata": {
  "kernelspec": {
   "display_name": "Python 3",
   "language": "python",
   "name": "python3"
  },
  "language_info": {
   "codemirror_mode": {
    "name": "ipython",
    "version": 3
   },
   "file_extension": ".py",
   "mimetype": "text/x-python",
   "name": "python",
   "nbconvert_exporter": "python",
   "pygments_lexer": "ipython3",
   "version": "3.8.8"
  }
 },
 "nbformat": 4,
 "nbformat_minor": 5
}
